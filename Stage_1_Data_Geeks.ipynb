{
  "cells": [
    {
      "cell_type": "markdown",
      "metadata": {
        "id": "fPW1I4jrZtjY"
      },
      "source": [
        "# Stage 1 - Exploratory Data Analysis\n",
        "\n",
        "---"
      ]
    },
    {
      "cell_type": "markdown",
      "metadata": {
        "id": "gkNWVePXZooW"
      },
      "source": [
        "Kelompok 2:\n",
        "\n",
        "*   Oei, Gabrielle Maureen B.S\n",
        "*   Ummi Sarah\n",
        "*   Arini Arumsari\n",
        "*   Althaaf Athaayaa Daffa Qushayyizidane\n",
        "*   Ruslan Hadi\n",
        "*   Muhammad Ikhsan Hendriyana\n",
        "*   Taufik Ismail\n",
        "*   Jackson\n",
        "*   Tsany Sutia"
      ]
    },
    {
      "cell_type": "code",
      "execution_count": null,
      "metadata": {
        "colab": {
          "base_uri": "https://localhost:8080/"
        },
        "id": "xvoEdoYpOw0s",
        "outputId": "4e6c6a35-7606-4456-9149-9c217723c538"
      },
      "outputs": [],
      "source": [
        "import warnings\n",
        "warnings.filterwarnings('ignore')\n",
        "\n",
        "import numpy as np\n",
        "import pandas as pd\n",
        "import seaborn as sns\n",
        "import matplotlib.pyplot as plt\n",
        "from matplotlib import rcParams\n",
        "%matplotlib inline\n",
        "from sklearn.preprocessing import MinMaxScaler, StandardScaler\n",
        "from imblearn import over_sampling\n",
        "from imblearn.over_sampling import SMOTE\n",
        "\n",
        "\n",
        "print('numpy version : ',np.__version__)\n",
        "print('pandas version : ',pd.__version__)\n",
        "print('seaborn version : ',sns.__version__)"
      ]
    },
    {
      "cell_type": "code",
      "execution_count": null,
      "metadata": {},
      "outputs": [],
      "source": [
        "sns.set(rc={'figure.figsize':(20.7,8.27)})\n",
        "sns.set_style(\"whitegrid\")\n",
        "sns.color_palette(\"dark\")\n",
        "plt.style.use(\"fivethirtyeight\")"
      ]
    },
    {
      "cell_type": "markdown",
      "metadata": {
        "id": "WFn6d2qeaaYp"
      },
      "source": [
        "# **Load and Descriptive Statistics**"
      ]
    },
    {
      "cell_type": "markdown",
      "metadata": {
        "id": "UZ2KR2s8ablT"
      },
      "source": [
        "## Load Dataset"
      ]
    },
    {
      "cell_type": "code",
      "execution_count": null,
      "metadata": {
        "colab": {
          "base_uri": "https://localhost:8080/",
          "height": 206
        },
        "id": "X1luatPAaaw_",
        "outputId": "66703b28-9747-4388-a05c-476ae83c30f9"
      },
      "outputs": [],
      "source": [
        "# Melakukan import csv\n",
        "df = pd.read_csv(\"train.csv\")\n",
        "df.sample(5)"
      ]
    },
    {
      "cell_type": "markdown",
      "metadata": {
        "id": "KaZQOugGaj1n"
      },
      "source": [
        "## Descriptive Statictics"
      ]
    },
    {
      "cell_type": "code",
      "execution_count": null,
      "metadata": {
        "colab": {
          "base_uri": "https://localhost:8080/"
        },
        "id": "0yPRqjRnz283",
        "outputId": "c12980a0-f833-412e-f818-2a948b7b82ae"
      },
      "outputs": [],
      "source": [
        "# Mengecek apakah ada data yang NaN/Null\n",
        "print(df.isnull().values.any())\n",
        "print(df.isna().sum())"
      ]
    },
    {
      "cell_type": "code",
      "execution_count": null,
      "metadata": {
        "colab": {
          "base_uri": "https://localhost:8080/"
        },
        "id": "FkUdogUYy-L4",
        "outputId": "18af35fc-ef41-4632-96d2-fdf234d4299f"
      },
      "outputs": [],
      "source": [
        "# Mengecek Datatype tiap kolom berserta non-null kolom\n",
        "df.info()"
      ]
    },
    {
      "cell_type": "code",
      "execution_count": null,
      "metadata": {
        "id": "wvF83sfedSZw"
      },
      "outputs": [],
      "source": [
        "# Pengelompokan kolom berdasarkan jenisnya\n",
        "num = ['int64', 'int32', 'int16', 'float64', 'float32', 'float16']\n",
        "num = df.select_dtypes(include=num)\n",
        "num.drop(columns=['id'],inplace=True)\n",
        "num = num.columns\n",
        "cats = ['Gender','Vehicle_Age','Vehicle_Damage']"
      ]
    },
    {
      "cell_type": "code",
      "execution_count": null,
      "metadata": {
        "colab": {
          "base_uri": "https://localhost:8080/",
          "height": 300
        },
        "id": "gw_NFqp2gi46",
        "outputId": "20613d15-7c6a-4bba-ab32-9ba33c44d102"
      },
      "outputs": [],
      "source": [
        "df[num].describe()"
      ]
    },
    {
      "cell_type": "code",
      "execution_count": null,
      "metadata": {
        "colab": {
          "base_uri": "https://localhost:8080/",
          "height": 175
        },
        "id": "fXhK_KcygrCz",
        "outputId": "cf212100-5cca-45c7-e73a-74f820a841a6"
      },
      "outputs": [],
      "source": [
        "df[cats].describe()"
      ]
    },
    {
      "cell_type": "code",
      "execution_count": null,
      "metadata": {
        "colab": {
          "base_uri": "https://localhost:8080/"
        },
        "id": "Vap5KbtUhKV6",
        "outputId": "e1a90aa1-889e-436c-9adf-1209ddeccfee"
      },
      "outputs": [],
      "source": [
        "# Mengecek unique value, modus, dan frekuensi modus dari tiap kolom\n",
        "for i in df[num]:\n",
        "  x = df[num][i].mode()[0]\n",
        "  y = df[num][i].value_counts()[x]\n",
        "  z = df[num][i].nunique()\n",
        "  print(f'Terdapat {z} unique values dan modus dari kolom {i} = {x} dengan frekuensi sebesar {y}')"
      ]
    },
    {
      "cell_type": "code",
      "execution_count": null,
      "metadata": {
        "colab": {
          "base_uri": "https://localhost:8080/"
        },
        "id": "zhbOGOoehWfZ",
        "outputId": "342eb815-7898-472d-b455-5f289846925d"
      },
      "outputs": [],
      "source": [
        "# Mengecek ukuran penyebaran\n",
        "\n",
        "for i in df[num]:\n",
        "  minv = df[num][i].min()\n",
        "  maxv = df[num][i].max()\n",
        "  Q1 = df[num][i].quantile(.25)\n",
        "  Q3 = df[num][i].quantile(.75)\n",
        "  range = maxv-minv\n",
        "  var = round(df[num][i].var(),2)\n",
        "  iqr = Q3-Q1\n",
        "  print (f'Ukuran penyebaran dari kolom {i}, variance = {var}, range = {range}, IQR = {iqr}')"
      ]
    },
    {
      "cell_type": "markdown",
      "metadata": {
        "id": "8qkmIo9Zhb5g"
      },
      "source": [
        "## Kesimpulan\n",
        "\n",
        "1. Apakah ada kolom dengan tipe data kurang sesuai, atau nama kolom dan isinya\n",
        "kurang sesuai?\n",
        "    > Dari 12 kolom, terdapat beberapa kolom yang perlu disesuaikan baik dari tipe data maupun nama kolomnya agar lebih mudah dimengerti,\n",
        "    > * id = ID unik untuk tiap customer. **Sudah sesuai**.\n",
        "    > * Gender = Jenis kelamin dari customer. **Sudah sesuai**.\n",
        "    > * Age = Usia customer. **Sudah sesuai**.\n",
        "    > * Driving_License = 0 : customer tidak memiliki izin mengemudi, 1 : customer memiliki izin mengemudi. **Sudah sesuai**.\n",
        "    > * Region_Code = Kode unik untuk tiap wilayah customer. **Sudah sesuai**.\n",
        "    > * Previously_Insured = 0 : Customer belum memiliki 'Asuransi Kendaraan', 1 : Customer sudah memiliki 'Asuransi Kendaraan'. **Sudah sesuai**.\n",
        "    > * Vehicle_Age = Usia dari kendaraan milik customer. **Lebih baik jika diubah menjadi integer, contoh dengan melakukan *label encoding***.\n",
        "    > * Vehicle_Damage = 0 : Kendaraan customer belum pernah rusak, 1: Kendaraan customer sudah pernah rusak. **Tipe data lebih baik diseragamkan dengan boolean yang lain yakni integer**.\n",
        "    > * Annual_Premium = Premi tahunan yang harus dibayar oleh customer. **Sudah sesuai**.\n",
        "    > * Policy_Sales_Channel = Kode channel/media yang digunakan untuk menghubungi customer. **Sudah sesuai**.\n",
        "    > * Vintage = Jumlah hari customer sudah bergabung dengan perusahaan. **Lebih baik diubah menjadi Join_Duration**. \n",
        "    > * Response = 0 : Customer tidak tertarik 'Asuransi Kendaraan', 0 : Customer tertarik 'Asuransi Kendaraan'**Sudah sesuai**.\n",
        "\n",
        "2. Apakah ada kolom yang memiliki nilai kosong? Jika ada, apa saja?\n",
        "    > Dari 12 kolom tidak ditemukan nilai kosong.\n",
        "\n",
        "3. Apakah ada kolom yang memiliki nilai summary agak aneh?\n",
        "(min/mean/median/max/unique/top/freq)\n",
        "    > Dari kolom ***Age***, ***Previously_Insured***, median < mean sehingga ada berkemungkinan persebaran data *positive skewed*, sedangkan kolom ***Policy_Sales_Channel***, ***Region_Code*** median > mean, yang kemungkinan *negative skewed*.\n"
      ]
    },
    {
      "cell_type": "markdown",
      "metadata": {
        "id": "JBKOkETQavC7"
      },
      "source": [
        "# **Univariate Analysis**"
      ]
    },
    {
      "cell_type": "code",
      "execution_count": null,
      "metadata": {
        "id": "3hsLHFm8avgr"
      },
      "outputs": [],
      "source": [
        "# Pengelompokan kolom berdasarkan jenisnya\n",
        "print(num)\n",
        "print(cats)"
      ]
    },
    {
      "cell_type": "code",
      "execution_count": null,
      "metadata": {},
      "outputs": [],
      "source": [
        "for i in range(0, len(num)):\n",
        "    plt.subplot(1, len(num), i+1)\n",
        "    sns.boxplot(y=df[num[i]], color = '#E7CBA9', data=df, orient = 'v')\n",
        "    plt.tight_layout()"
      ]
    },
    {
      "cell_type": "markdown",
      "metadata": {},
      "source": [
        "#### Hasil Observasi = \n",
        "* Age : Distribusi data tidak normal. Umur pelanggan bervarian dari 20 tahun hingga 85 tahun, dengan kebanyakan pelanggan berusia antara 24 - 49 tahun. \n",
        "* Driving_License : Merupakan boolean. Data tidak terdistribusi dengan normal. Kebanyakan pelanggan terkategori 1 (Memiliki izin mengemudi).\n",
        "* Region_Code : Distribusi data normal. Dengan median di kode wilayah 28.\n",
        "* Previously_Insured : Merupakan boolean. Data terdistribusi dengan rata antara 1 dan 0.\n",
        "* Annual_Premium : Data terdistribusi normal, dengan kebanyakan annual premium sekitar 0 - 50000 (dibawah 100000), Terdapat banyak outliers yang nominalnya hingga diatas 400000.\n",
        "* Policy_Sales_Channel : Distribusi data tidak normal dengan nilai tengah berada di nilai ± 130.\n",
        "* Vintage : Distribusi data normal, dengan median di nilai ± 151.\n",
        "* Response : Merupakan boolean. Data tidak terdistribusi dengan normal. Kebanyakan pelanggan terkategori 0 (Tidak berminat)."
      ]
    },
    {
      "cell_type": "code",
      "execution_count": null,
      "metadata": {},
      "outputs": [],
      "source": [
        "for i in range(0, len(num)):\n",
        "    plt.subplot(2, len(num), i+1)\n",
        "    sns.distplot(df[num[i]], color='#E7CBA9')\n",
        "    plt.tight_layout(pad=2)"
      ]
    },
    {
      "cell_type": "markdown",
      "metadata": {},
      "source": [
        "#### Hasil Observasi = \n",
        "* Age : Persebaran *positive skewed*.\n",
        "* Driving_License : Merupakan bimodal, persebaran tidak rata, mayoritas nilai 1.\n",
        "* Region_Code : Persebaran data normal.\n",
        "* Previously_Insured : Merupakan bimodal, persebaran data rata antara 1 dan 0, dimana 0 terlihat sedikit lebih banyak.\n",
        "* Annual_Premium : Distribusi data mendekati normal namun terdapat outliers diatas batas atas.\n",
        "* Policy_Sales_Channel : Distribusi data tidak normal, cenderung *negative skewed*.\n",
        "* Vintage : Persebaran data normal.\n",
        "* Response : Merupakan bimodal, persebaran tidak rata, mayoritas nilai 0."
      ]
    },
    {
      "cell_type": "code",
      "execution_count": null,
      "metadata": {},
      "outputs": [],
      "source": [
        "for i in range(0, len(num)):\n",
        "    plt.subplot(1, len(num), i+1)\n",
        "    sns.violinplot(y=df[num[i]], color='#E7CBA9', orient='v')\n",
        "    plt.tight_layout()"
      ]
    },
    {
      "cell_type": "markdown",
      "metadata": {},
      "source": [
        "#### Hasil Observasi = \n",
        "* Age : Mayoritas nilai 24.\n",
        "* Driving_License : Mayoritas nilai 1.\n",
        "* Region_Code : Mayoritas nilai 28.\n",
        "* Previously_Insured : Terdapat 2 nilai 1 dan 0, terlihat dari chart nilai 0 sedikit lebih banyak.\n",
        "* Annual_Premium : Kebanyakan nilai < 30000.\n",
        "* Policy_Sales_Channel : Mayoritas nilai ±151.\n",
        "* Vintage : Data merata ditiap nilainya.\n",
        "* Response : Mayoritas nilai 0."
      ]
    },
    {
      "cell_type": "code",
      "execution_count": null,
      "metadata": {},
      "outputs": [],
      "source": [
        "for i in range(0, len(cats)):\n",
        "    plt.subplot(len(cats), 1, i+1)\n",
        "    sns.countplot(y=df[cats[i]], color='#E7CBA9')\n",
        "    plt.tight_layout()\n"
      ]
    },
    {
      "cell_type": "markdown",
      "metadata": {},
      "source": [
        "#### Hasil Observasi = \n",
        "* Gender : Mayoritas nilai **'Male'**.\n",
        "* Vehicle_Age : Mayoritas nilai **'1-2 Year'**, disusul dengan '<1 Year' dan yang paling sedikit '>2 Years'.\n",
        "* Vehicle_Damage : Mayoritas nilai **'Yes'**."
      ]
    },
    {
      "cell_type": "markdown",
      "metadata": {
        "id": "2n0y0gkdhpBD"
      },
      "source": [
        "## Kesimpulan\n",
        "\n",
        "Yang harus di-follow up saat data pre-processing?\n",
        "\n",
        "> *   Outliers\n",
        "> *   Distribusi data yang tidak seimbang\n",
        "> *   Class Imbalance\n"
      ]
    },
    {
      "cell_type": "markdown",
      "metadata": {
        "id": "oDxRH7oIawHD"
      },
      "source": [
        "# **Multivariate Analysis**"
      ]
    },
    {
      "cell_type": "code",
      "execution_count": null,
      "metadata": {
        "id": "ZQAB-kZEayR_"
      },
      "outputs": [],
      "source": [
        "plt.figure(figsize=(8, 8))\n",
        "sns.heatmap(df[num].corr(), cmap='Purples', annot=True, fmt='.2f')"
      ]
    },
    {
      "cell_type": "code",
      "execution_count": null,
      "metadata": {},
      "outputs": [],
      "source": [
        "#plt.figure(figsize=(15, 15))\n",
        "#sns.pairplot(df, diag_kind='kde',hue='Response')"
      ]
    },
    {
      "cell_type": "code",
      "execution_count": null,
      "metadata": {},
      "outputs": [],
      "source": [
        "fig = plt.figure(figsize=(15, 15))\n",
        "for i in range(0, len(num)): \n",
        "    ax = fig.add_subplot(3, 3, i+1) \n",
        "    sns.stripplot(ax=ax, data=df, x='Gender', y=num[i]) \n",
        "    plt.tight_layout()"
      ]
    },
    {
      "cell_type": "code",
      "execution_count": null,
      "metadata": {},
      "outputs": [],
      "source": [
        "fig = plt.figure(figsize=(15, 15))\n",
        "for i in range(0, len(num)): \n",
        "    ax = fig.add_subplot(3, 3, i+1) \n",
        "    sns.stripplot(ax=ax, data=df, x='Vechile_Damage', y=num[i]) \n",
        "    plt.tight_layout()"
      ]
    },
    {
      "cell_type": "code",
      "execution_count": null,
      "metadata": {},
      "outputs": [],
      "source": [
        "fig = plt.figure(figsize=(15, 15))\n",
        "for i in range(0, len(num)): # untuk setiap kolom numerik\n",
        "    ax = fig.add_subplot(3, 3, i+1) # kita set posisi catplot/stripplotnya di layout\n",
        "    sns.stripplot(ax=ax, data=df, x='Vechile_Age', y=num[i]) # gambar catplot/stripplotnya\n",
        "    plt.tight_layout()"
      ]
    },
    {
      "cell_type": "markdown",
      "metadata": {
        "id": "oJNuCNalhyEB"
      },
      "source": [
        "## Kesimpulan\n",
        "1. Bagaimana korelasi antara masing-masing feature dan label. Kira-kira feature mana saja yang paling relevan dan harus dipertahankan?\n",
        ">\n",
        "\n",
        "\n",
        "\n",
        "2. Bagaimana korelasi antar-feature, apakah ada pola yang menarik?\n",
        ">"
      ]
    },
    {
      "cell_type": "markdown",
      "metadata": {
        "id": "xrh1hHXua1lO"
      },
      "source": [
        "# **Business Insight**"
      ]
    },
    {
      "cell_type": "code",
      "execution_count": null,
      "metadata": {
        "id": "8ToQ7Ei-bK1T"
      },
      "outputs": [],
      "source": []
    },
    {
      "cell_type": "markdown",
      "metadata": {
        "id": "xEAeGhxFh1gM"
      },
      "source": [
        "## Kesimpulan"
      ]
    }
  ],
  "metadata": {
    "colab": {
      "provenance": []
    },
    "kernelspec": {
      "display_name": "Python 3",
      "name": "python3"
    },
    "language_info": {
      "codemirror_mode": {
        "name": "ipython",
        "version": 3
      },
      "file_extension": ".py",
      "mimetype": "text/x-python",
      "name": "python",
      "nbconvert_exporter": "python",
      "pygments_lexer": "ipython3",
      "version": "3.11.3"
    }
  },
  "nbformat": 4,
  "nbformat_minor": 0
}
